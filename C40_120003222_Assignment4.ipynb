{
 "cells": [
  {
   "cell_type": "markdown",
   "metadata": {},
   "source": [
    "1\n",
    "a)The Jaccard Distance between two sets(say, A and B) can be calculated by these steps,\n",
    "1. Compute the Jaccard Index which is A.intersection(B) / A.union(B)\n",
    "2. Subtract the Jaccard Index from 1 to get the Jaccard Distance."
   ]
  },
  {
   "cell_type": "code",
   "execution_count": 49,
   "metadata": {
    "scrolled": true
   },
   "outputs": [
    {
     "name": "stdout",
     "output_type": "stream",
     "text": [
      "4\n",
      "8\n",
      "Jaccard Distance between A and B is 0.5\n",
      "4\n",
      "8\n",
      "Jaccard Distance between B and C is 0.5\n",
      "4\n",
      "8\n",
      "Jaccard Distance between A and C is 0.5\n"
     ]
    }
   ],
   "source": [
    "A=(1,1,0,1,1,0,1,1)\n",
    "B=(0,1,1,1,1,1,1,0)\n",
    "C=(1,0,1,1,0,1,1,1)\n",
    "\n",
    "def findInter(s1,s2):\n",
    "    inter=0\n",
    "    for i in range(len(s1)):\n",
    "        if(s1[i]==s2[i]==1):\n",
    "            inter=inter+1\n",
    "    return inter        \n",
    "def findUnion(s1,s2):\n",
    "    union=0\n",
    "    for i in range(len(s1)):\n",
    "        if(s1[i]==1 or s2[i]==1):\n",
    "            union=union+1\n",
    "    return union\n",
    "\n",
    "in1=findInter(A,B)\n",
    "un=findUnion(A,B)\n",
    "print(in1)\n",
    "print(un)\n",
    "jacind=in1/un\n",
    "jacdist=1-jacind\n",
    "print(\"Jaccard Distance between A and B is \"+str(jacind))\n",
    "\n",
    "in1=findInter(B,C)\n",
    "un=findUnion(B,C)\n",
    "print(in1)\n",
    "print(un)\n",
    "jacind=in1/un\n",
    "jacdist=1-jacind\n",
    "print(\"Jaccard Distance between B and C is \"+str(jacind))\n",
    "\n",
    "in1=findInter(A,C)\n",
    "un=findUnion(A,C)\n",
    "print(in1)\n",
    "print(un)\n",
    "jacind=in1/un\n",
    "jacdist=1-jacind\n",
    "print(\"Jaccard Distance between A and C is \"+str(jacind))"
   ]
  },
  {
   "cell_type": "markdown",
   "metadata": {},
   "source": [
    "1\n",
    "b)The Cosine Distance between say, A and B is calculated by the following steps,\n",
    "1. Find the dot product of A and B.\n",
    "2. Calculate the square root of the dot product of A and A.\n",
    "3. The Square root of the dot product of B and B.\n",
    "4. Multiply the dot products of steps 2 and 3.\n",
    "5. Divide the dot product of A and B by step 4's result."
   ]
  },
  {
   "cell_type": "code",
   "execution_count": 29,
   "metadata": {},
   "outputs": [
    {
     "name": "stdout",
     "output_type": "stream",
     "text": [
      "The Cosine Distance between A and B is 0.6666666666666667\n",
      "The Cosine Distance between B and C is 0.6666666666666667\n",
      "The Cosine Distance between A and C is 0.6666666666666667\n"
     ]
    }
   ],
   "source": [
    "import math\n",
    "A=(1,1,0,1,1,0,1,1)\n",
    "B=(0,1,1,1,1,1,1,0)\n",
    "C=(1,0,1,1,0,1,1,1)\n",
    "\n",
    "def findDot(s1,s2):\n",
    "    dot=0;\n",
    "    for i in range(len(s1)):\n",
    "        dot+=s1[i]*s2[i]\n",
    "    return dot\n",
    "\n",
    "num=findDot(A,B)\n",
    "den=math.sqrt(findDot(A,A))* math.sqrt(findDot(B,B))\n",
    "print(\"The Cosine Distance between A and B is \"+str(num/den))\n",
    "\n",
    "num=findDot(B,C)\n",
    "den=math.sqrt(findDot(C,C))* math.sqrt(findDot(B,B))\n",
    "print(\"The Cosine Distance between B and C is \"+str(num/den))\n",
    "\n",
    "num=findDot(A,C)\n",
    "den=math.sqrt(findDot(A,A))* math.sqrt(findDot(C,C))\n",
    "print(\"The Cosine Distance between A and C is \"+str(num/den))\n",
    "\n"
   ]
  },
  {
   "cell_type": "markdown",
   "metadata": {},
   "source": [
    "1\n",
    "c) Same Procedure but the input changes due to 3,4,5 ratings getting values 1 and the rest 0"
   ]
  },
  {
   "cell_type": "code",
   "execution_count": 187,
   "metadata": {},
   "outputs": [
    {
     "name": "stdout",
     "output_type": "stream",
     "text": [
      "2\n",
      "5\n",
      "Jaccard Distance between A and B is 0.4\n",
      "1\n",
      "6\n",
      "Jaccard Distance between B and C is 0.16666666666666666\n",
      "2\n",
      "6\n",
      "Jaccard Distance between A and C is 0.3333333333333333\n"
     ]
    }
   ],
   "source": [
    "A=(1,1,0,1,0,0,1,0)\n",
    "B=(0,1,1,1,0,0,0,0)\n",
    "C=(0,0,0,1,0,1,1,1)\n",
    "\n",
    "in1=findInter(A,B)\n",
    "un=findUnion(A,B)\n",
    "print(in1)\n",
    "print(un)\n",
    "jacind=in1/un\n",
    "jacdist=1-jacind\n",
    "print(\"Jaccard Distance between A and B is \"+str(jacind))\n",
    "\n",
    "in1=findInter(B,C)\n",
    "un=findUnion(B,C)\n",
    "print(in1)\n",
    "print(un)\n",
    "jacind=in1/un\n",
    "jacdist=1-jacind\n",
    "print(\"Jaccard Distance between B and C is \"+str(jacind))\n",
    "\n",
    "in1=findInter(A,C)\n",
    "un=findUnion(A,C)\n",
    "print(in1)\n",
    "print(un)\n",
    "jacind=in1/un\n",
    "jacdist=1-jacind\n",
    "print(\"Jaccard Distance between A and C is \"+str(jacind))"
   ]
  },
  {
   "cell_type": "markdown",
   "metadata": {},
   "source": [
    "1\n",
    "d) The Cosine Distance procedure is the same but for the changed input."
   ]
  },
  {
   "cell_type": "code",
   "execution_count": 188,
   "metadata": {},
   "outputs": [
    {
     "name": "stdout",
     "output_type": "stream",
     "text": [
      "The Cosine Distance between A and B is 0.5773502691896258\n",
      "The Cosine Distance between B and C is 0.2886751345948129\n",
      "The Cosine Distance between A and C is 0.5\n"
     ]
    }
   ],
   "source": [
    "import math\n",
    "A=(1,1,0,1,0,0,1,0)\n",
    "B=(0,1,1,1,0,0,0,0)\n",
    "C=(0,0,0,1,0,1,1,1)\n",
    "\n",
    "num=findDot(A,B)\n",
    "den=math.sqrt(findDot(A,A))* math.sqrt(findDot(B,B))\n",
    "print(\"The Cosine Distance between A and B is \"+str(num/den))\n",
    "\n",
    "num=findDot(B,C)\n",
    "den=math.sqrt(findDot(C,C))* math.sqrt(findDot(B,B))\n",
    "print(\"The Cosine Distance between B and C is \"+str(num/den))\n",
    "\n",
    "num=findDot(A,C)\n",
    "den=math.sqrt(findDot(A,A))* math.sqrt(findDot(C,C))\n",
    "print(\"The Cosine Distance between A and C is \"+str(num/den))\n",
    "\n"
   ]
  },
  {
   "cell_type": "markdown",
   "metadata": {},
   "source": [
    "1\n",
    "e) Normalizing the matrix by finding the average of each user's ratings and then subtracting that from the non zero ratings."
   ]
  },
  {
   "cell_type": "code",
   "execution_count": 40,
   "metadata": {},
   "outputs": [
    {
     "name": "stdout",
     "output_type": "stream",
     "text": [
      "[1.5, 2.5, 0, 2.5, -1.5, 0, 0.5, -0.5]\n",
      "[0, 1.25, 2.25, 1.25, -0.75, 0.25, -0.75, 0]\n",
      "[-0.25, 0, -1.25, 0.75, 0, 1.75, 2.75, 0.75]\n"
     ]
    }
   ],
   "source": [
    "A=[4,5,0,5,1,0,3,2]\n",
    "B=[0,3,4,3,1,2,1,0]\n",
    "C=[2,0,1,3,0,4,5,3]\n",
    "\n",
    "def findAvg(s1):\n",
    "    avg=0;\n",
    "    for i in range(len(s1)):\n",
    "        avg+=s1[i]\n",
    "    avg=avg/len(s1)\n",
    "    return avg\n",
    "\n",
    "def repList(s1):\n",
    "    l=list()\n",
    "    for i in s1:\n",
    "        if(i is not 0):\n",
    "            l.append(i-findAvg(s1))\n",
    "        else:\n",
    "            l.append(0)\n",
    "    return l\n",
    "\n",
    "A=repList(A)\n",
    "B=repList(B)\n",
    "C=repList(C)\n",
    "print(A)\n",
    "print(B)\n",
    "print(C)"
   ]
  },
  {
   "cell_type": "markdown",
   "metadata": {},
   "source": [
    "1\n",
    "f) Computing the Cosine Distance between each set with the normalized sets from the previous step."
   ]
  },
  {
   "cell_type": "code",
   "execution_count": 189,
   "metadata": {},
   "outputs": [
    {
     "name": "stdout",
     "output_type": "stream",
     "text": [
      "The Cosine Distance between A and B is 0.5465040408511785\n",
      "The Cosine Distance between B and C is -0.31256152042413066\n",
      "The Cosine Distance between A and C is 0.16340829138365012\n"
     ]
    }
   ],
   "source": [
    "import math\n",
    "A=(1.5, 2.5, 0, 2.5, -1.5, 0, 0.5, -0.5)\n",
    "B=(0, 1.25, 2.25, 1.25, -0.75, 0.25, -0.75, 0)\n",
    "C=(-0.25, 0, -1.25, 0.75, 0, 1.75, 2.75, 0.75)\n",
    "num=findDot(A,B)\n",
    "den=math.sqrt(findDot(A,A))* math.sqrt(findDot(B,B))\n",
    "print(\"The Cosine Distance between A and B is \"+str(num/den))\n",
    "\n",
    "num=findDot(B,C)\n",
    "den=math.sqrt(findDot(C,C))* math.sqrt(findDot(B,B))\n",
    "print(\"The Cosine Distance between B and C is \"+str(num/den))\n",
    "\n",
    "num=findDot(A,C)\n",
    "den=math.sqrt(findDot(A,A))* math.sqrt(findDot(C,C))\n",
    "print(\"The Cosine Distance between A and C is \"+str(num/den))\n",
    "\n"
   ]
  },
  {
   "cell_type": "markdown",
   "metadata": {},
   "source": [
    "2\n",
    "Based on the user profiles of Users 200 and 15, the recommender system is supposed to determine which of these users to suggest the movie with ID 95, \"The Aladdin (1992)\". The code mentioned below builds the profiles, calculates ratings, finds the user who is most likely to enjoy the movie. "
   ]
  },
  {
   "cell_type": "code",
   "execution_count": 262,
   "metadata": {},
   "outputs": [
    {
     "data": {
      "text/html": [
       "<div>\n",
       "<style scoped>\n",
       "    .dataframe tbody tr th:only-of-type {\n",
       "        vertical-align: middle;\n",
       "    }\n",
       "\n",
       "    .dataframe tbody tr th {\n",
       "        vertical-align: top;\n",
       "    }\n",
       "\n",
       "    .dataframe thead th {\n",
       "        text-align: right;\n",
       "    }\n",
       "</style>\n",
       "<table border=\"1\" class=\"dataframe\">\n",
       "  <thead>\n",
       "    <tr style=\"text-align: right;\">\n",
       "      <th></th>\n",
       "      <th>UserID</th>\n",
       "      <th>ItemID</th>\n",
       "      <th>Rating</th>\n",
       "      <th>Timestamp</th>\n",
       "    </tr>\n",
       "  </thead>\n",
       "  <tbody>\n",
       "    <tr>\n",
       "      <th>12</th>\n",
       "      <td>200</td>\n",
       "      <td>222</td>\n",
       "      <td>5</td>\n",
       "      <td>876042340</td>\n",
       "    </tr>\n",
       "    <tr>\n",
       "      <th>189</th>\n",
       "      <td>200</td>\n",
       "      <td>673</td>\n",
       "      <td>5</td>\n",
       "      <td>884128554</td>\n",
       "    </tr>\n",
       "    <tr>\n",
       "      <th>243</th>\n",
       "      <td>200</td>\n",
       "      <td>318</td>\n",
       "      <td>5</td>\n",
       "      <td>884128458</td>\n",
       "    </tr>\n",
       "    <tr>\n",
       "      <th>326</th>\n",
       "      <td>200</td>\n",
       "      <td>304</td>\n",
       "      <td>5</td>\n",
       "      <td>876041644</td>\n",
       "    </tr>\n",
       "    <tr>\n",
       "      <th>367</th>\n",
       "      <td>200</td>\n",
       "      <td>96</td>\n",
       "      <td>5</td>\n",
       "      <td>884129409</td>\n",
       "    </tr>\n",
       "    <tr>\n",
       "      <th>503</th>\n",
       "      <td>200</td>\n",
       "      <td>365</td>\n",
       "      <td>5</td>\n",
       "      <td>884129962</td>\n",
       "    </tr>\n",
       "    <tr>\n",
       "      <th>692</th>\n",
       "      <td>200</td>\n",
       "      <td>11</td>\n",
       "      <td>5</td>\n",
       "      <td>884129542</td>\n",
       "    </tr>\n",
       "    <tr>\n",
       "      <th>1129</th>\n",
       "      <td>200</td>\n",
       "      <td>892</td>\n",
       "      <td>4</td>\n",
       "      <td>884127082</td>\n",
       "    </tr>\n",
       "    <tr>\n",
       "      <th>1285</th>\n",
       "      <td>200</td>\n",
       "      <td>588</td>\n",
       "      <td>5</td>\n",
       "      <td>884128499</td>\n",
       "    </tr>\n",
       "    <tr>\n",
       "      <th>1490</th>\n",
       "      <td>200</td>\n",
       "      <td>478</td>\n",
       "      <td>5</td>\n",
       "      <td>884128788</td>\n",
       "    </tr>\n",
       "  </tbody>\n",
       "</table>\n",
       "</div>"
      ],
      "text/plain": [
       "      UserID  ItemID  Rating  Timestamp\n",
       "12       200     222       5  876042340\n",
       "189      200     673       5  884128554\n",
       "243      200     318       5  884128458\n",
       "326      200     304       5  876041644\n",
       "367      200      96       5  884129409\n",
       "503      200     365       5  884129962\n",
       "692      200      11       5  884129542\n",
       "1129     200     892       4  884127082\n",
       "1285     200     588       5  884128499\n",
       "1490     200     478       5  884128788"
      ]
     },
     "execution_count": 262,
     "metadata": {},
     "output_type": "execute_result"
    }
   ],
   "source": [
    "import pandas as pd\n",
    "dat=pd.read_csv('C:/Users/Titan/Documents/Pooja_programs/DA Project/assign.csv')\n",
    "df1=pd.read_csv('C:/Users/Titan/Documents/Pooja_programs/DA Project/assign1.csv')\n",
    "movie_choice=pd.DataFrame(df1.loc[94,::])\n",
    "movie_choice.head(n=10)\n",
    "df1.index+=1\n",
    "df1.head()\n",
    "movies_index=df1.MovieID\n",
    "genres=df1.columns\n",
    "genres=genres[5:]\n",
    "genre_values=df1.values\n",
    "dat200=pd.DataFrame(dat.loc[dat['UserID']==200])\n",
    "user200r=dat200.Rating\n",
    "user200i=dat200.ItemID\n",
    "dat200.head(n=10)\n"
   ]
  },
  {
   "cell_type": "code",
   "execution_count": 263,
   "metadata": {},
   "outputs": [
    {
     "data": {
      "text/html": [
       "<div>\n",
       "<style scoped>\n",
       "    .dataframe tbody tr th:only-of-type {\n",
       "        vertical-align: middle;\n",
       "    }\n",
       "\n",
       "    .dataframe tbody tr th {\n",
       "        vertical-align: top;\n",
       "    }\n",
       "\n",
       "    .dataframe thead th {\n",
       "        text-align: right;\n",
       "    }\n",
       "</style>\n",
       "<table border=\"1\" class=\"dataframe\">\n",
       "  <thead>\n",
       "    <tr style=\"text-align: right;\">\n",
       "      <th></th>\n",
       "      <th>UserID</th>\n",
       "      <th>ItemID</th>\n",
       "      <th>Rating</th>\n",
       "      <th>Timestamp</th>\n",
       "    </tr>\n",
       "  </thead>\n",
       "  <tbody>\n",
       "    <tr>\n",
       "      <th>206</th>\n",
       "      <td>15</td>\n",
       "      <td>405</td>\n",
       "      <td>2</td>\n",
       "      <td>879455957</td>\n",
       "    </tr>\n",
       "    <tr>\n",
       "      <th>642</th>\n",
       "      <td>15</td>\n",
       "      <td>749</td>\n",
       "      <td>1</td>\n",
       "      <td>879455311</td>\n",
       "    </tr>\n",
       "    <tr>\n",
       "      <th>708</th>\n",
       "      <td>15</td>\n",
       "      <td>25</td>\n",
       "      <td>3</td>\n",
       "      <td>879456204</td>\n",
       "    </tr>\n",
       "    <tr>\n",
       "      <th>1208</th>\n",
       "      <td>15</td>\n",
       "      <td>331</td>\n",
       "      <td>3</td>\n",
       "      <td>879455166</td>\n",
       "    </tr>\n",
       "    <tr>\n",
       "      <th>1365</th>\n",
       "      <td>15</td>\n",
       "      <td>222</td>\n",
       "      <td>3</td>\n",
       "      <td>879455730</td>\n",
       "    </tr>\n",
       "    <tr>\n",
       "      <th>2207</th>\n",
       "      <td>15</td>\n",
       "      <td>473</td>\n",
       "      <td>1</td>\n",
       "      <td>879456204</td>\n",
       "    </tr>\n",
       "    <tr>\n",
       "      <th>2241</th>\n",
       "      <td>15</td>\n",
       "      <td>678</td>\n",
       "      <td>1</td>\n",
       "      <td>879455311</td>\n",
       "    </tr>\n",
       "    <tr>\n",
       "      <th>2461</th>\n",
       "      <td>15</td>\n",
       "      <td>932</td>\n",
       "      <td>1</td>\n",
       "      <td>879456465</td>\n",
       "    </tr>\n",
       "    <tr>\n",
       "      <th>2464</th>\n",
       "      <td>15</td>\n",
       "      <td>127</td>\n",
       "      <td>2</td>\n",
       "      <td>879455505</td>\n",
       "    </tr>\n",
       "    <tr>\n",
       "      <th>2649</th>\n",
       "      <td>15</td>\n",
       "      <td>685</td>\n",
       "      <td>4</td>\n",
       "      <td>879456288</td>\n",
       "    </tr>\n",
       "  </tbody>\n",
       "</table>\n",
       "</div>"
      ],
      "text/plain": [
       "      UserID  ItemID  Rating  Timestamp\n",
       "206       15     405       2  879455957\n",
       "642       15     749       1  879455311\n",
       "708       15      25       3  879456204\n",
       "1208      15     331       3  879455166\n",
       "1365      15     222       3  879455730\n",
       "2207      15     473       1  879456204\n",
       "2241      15     678       1  879455311\n",
       "2461      15     932       1  879456465\n",
       "2464      15     127       2  879455505\n",
       "2649      15     685       4  879456288"
      ]
     },
     "execution_count": 263,
     "metadata": {},
     "output_type": "execute_result"
    }
   ],
   "source": [
    "dat15=pd.DataFrame(dat.loc[dat['UserID']==15])\n",
    "user15r=dat15.Rating\n",
    "user15i=dat15.ItemID\n",
    "dat15.head(n=10)"
   ]
  },
  {
   "cell_type": "code",
   "execution_count": 264,
   "metadata": {},
   "outputs": [],
   "source": [
    "def findRatings(s1):\n",
    "    l=[0]*18\n",
    "    for i in s1:\n",
    "        pos=0\n",
    "        j=genre_values[i]\n",
    "        j=j[5:]\n",
    "        for ind in j:\n",
    "            l[pos]+=ind\n",
    "            pos+=1\n",
    "    \n",
    "    avg=findAvg(l)\n",
    "\n",
    "    for i in range(18):\n",
    "        l[i]/=avg\n",
    "        l[i]=round(l[i],2)\n",
    "    return l\n"
   ]
  },
  {
   "cell_type": "code",
   "execution_count": 265,
   "metadata": {},
   "outputs": [
    {
     "name": "stdout",
     "output_type": "stream",
     "text": [
      "User 200's Ratings : [2.03, 1.18, 0.38, 0.8, 3.21, 0.55, 0.13, 3.13, 0.21, 0.13, 0.55, 0.46, 0.3, 1.18, 0.97, 1.61, 0.8, 0.38]\n",
      "User 15's Ratings : [1.79, 0.9, 0.09, 0.99, 2.33, 0.81, 0.18, 4.3, 0.27, 0.18, 0.36, 0.18, 0.45, 1.34, 0.9, 2.24, 0.54, 0.18]\n",
      "The Cosine Distance between User200 and Movie Number 95 : The Aladdin is 0.4405912046275792\n",
      "The Cosine Distance between User15 and Movie Number 95 : The Aladdin is 0.319263619094249\n"
     ]
    }
   ],
   "source": [
    "user200sum=findRatings(user200i)\n",
    "user15sum=findRatings(user15i)\n",
    "\n",
    "print(\"User 200's Ratings : \"+str(user200sum))\n",
    "print(\"User 15's Ratings : \"+str(user15sum))\n",
    "goal_movie=genre_values[ind]\n",
    "goal_movie=goal_movie[5:]\n",
    "\n",
    "num=findDot(user200sum,goal_movie)\n",
    "den=math.sqrt(findDot(user200sum,user200sum))* math.sqrt(findDot(goal_movie,goal_movie))\n",
    "print(\"The Cosine Distance between User200 and Movie Number 95 : The Aladdin is \"+str(num/den))\n",
    "\n",
    "num=findDot(user15sum,goal_movie)\n",
    "den=math.sqrt(findDot(user15sum,user15sum))* math.sqrt(findDot(goal_movie,goal_movie))\n",
    "print(\"The Cosine Distance between User15 and Movie Number 95 : The Aladdin is \"+str(num/den))\n",
    "    \n",
    "        "
   ]
  },
  {
   "cell_type": "markdown",
   "metadata": {},
   "source": [
    "Based on the Cosine Distance values, User 200 might enjoy \"The Aladdin\" more than User 15, so the Recommender would suggest this movie to User 200."
   ]
  }
 ],
 "metadata": {
  "kernelspec": {
   "display_name": "Python 3",
   "language": "python",
   "name": "python3"
  },
  "language_info": {
   "codemirror_mode": {
    "name": "ipython",
    "version": 3
   },
   "file_extension": ".py",
   "mimetype": "text/x-python",
   "name": "python",
   "nbconvert_exporter": "python",
   "pygments_lexer": "ipython3",
   "version": "3.7.3"
  }
 },
 "nbformat": 4,
 "nbformat_minor": 2
}
