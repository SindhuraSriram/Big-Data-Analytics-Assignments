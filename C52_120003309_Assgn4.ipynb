{
 "cells": [
  {
   "cell_type": "markdown",
   "metadata": {},
   "source": [
    "BIG DATA ANALYTICS ASSIGNMENT WEEK 4\n",
    "\n",
    "Turned in by,\n",
    "Sindhura Sriram S\n",
    "120003309\n",
    "4 CSE C 52"
   ]
  },
  {
   "cell_type": "markdown",
   "metadata": {},
   "source": [
    "1\n",
    "a)The Jaccard Distance between two sets(say, A and B) can be calculated by these steps,\n",
    "1. Compute the Jaccard Index which is A.intersection(B) / A.union(B)\n",
    "2. Subtract the Jaccard Index from 1 to get the Jaccard Distance."
   ]
  },
  {
   "cell_type": "code",
   "execution_count": 2,
   "metadata": {
    "scrolled": true
   },
   "outputs": [
    {
     "name": "stdout",
     "output_type": "stream",
     "text": [
      "4\n",
      "8\n",
      "Jaccard Distance between A and B is 0.5\n",
      "4\n",
      "8\n",
      "Jaccard Distance between B and C is 0.5\n",
      "4\n",
      "8\n",
      "Jaccard Distance between A and C is 0.5\n"
     ]
    }
   ],
   "source": [
    "A=(1,1,0,1,1,0,1,1)\n",
    "B=(0,1,1,1,1,1,1,0)\n",
    "C=(1,0,1,1,0,1,1,1)\n",
    "\n",
    "def findInter(s1,s2):\n",
    "    inter=0\n",
    "    for i in range(len(s1)):\n",
    "        if(s1[i]==s2[i]==1):\n",
    "            inter=inter+1\n",
    "    return inter        \n",
    "def findUnion(s1,s2):\n",
    "    union=0\n",
    "    for i in range(len(s1)):\n",
    "        if(s1[i]==1 or s2[i]==1):\n",
    "            union=union+1\n",
    "    return union\n",
    "\n",
    "in1=findInter(A,B)\n",
    "un=findUnion(A,B)\n",
    "print(in1)\n",
    "print(un)\n",
    "jacind=in1/un\n",
    "jacdist=1-jacind\n",
    "print(\"Jaccard Distance between A and B is \"+str(jacind))\n",
    "\n",
    "in1=findInter(B,C)\n",
    "un=findUnion(B,C)\n",
    "print(in1)\n",
    "print(un)\n",
    "jacind=in1/un\n",
    "jacdist=1-jacind\n",
    "print(\"Jaccard Distance between B and C is \"+str(jacind))\n",
    "\n",
    "in1=findInter(A,C)\n",
    "un=findUnion(A,C)\n",
    "print(in1)\n",
    "print(un)\n",
    "jacind=in1/un\n",
    "jacdist=1-jacind\n",
    "print(\"Jaccard Distance between A and C is \"+str(jacind))"
   ]
  },
  {
   "cell_type": "markdown",
   "metadata": {},
   "source": [
    "1\n",
    "b)The Cosine Distance between say, A and B is calculated by the following steps,\n",
    "1. Find the dot product of A and B.\n",
    "2. Calculate the square root of the dot product of A and A.\n",
    "3. The Square root of the dot product of B and B.\n",
    "4. Multiply the dot products of steps 2 and 3.\n",
    "5. Divide the dot product of A and B by step 4's result."
   ]
  },
  {
   "cell_type": "code",
   "execution_count": 3,
   "metadata": {},
   "outputs": [
    {
     "name": "stdout",
     "output_type": "stream",
     "text": [
      "The Cosine Distance between A and B is 0.6666666666666667\n",
      "The Cosine Distance between B and C is 0.6666666666666667\n",
      "The Cosine Distance between A and C is 0.6666666666666667\n"
     ]
    }
   ],
   "source": [
    "import math\n",
    "A=(1,1,0,1,1,0,1,1)\n",
    "B=(0,1,1,1,1,1,1,0)\n",
    "C=(1,0,1,1,0,1,1,1)\n",
    "\n",
    "def findDot(s1,s2):\n",
    "    dot=0;\n",
    "    for i in range(len(s1)):\n",
    "        dot+=s1[i]*s2[i]\n",
    "    return dot\n",
    "\n",
    "num=findDot(A,B)\n",
    "den=math.sqrt(findDot(A,A))* math.sqrt(findDot(B,B))\n",
    "print(\"The Cosine Distance between A and B is \"+str(num/den))\n",
    "\n",
    "num=findDot(B,C)\n",
    "den=math.sqrt(findDot(C,C))* math.sqrt(findDot(B,B))\n",
    "print(\"The Cosine Distance between B and C is \"+str(num/den))\n",
    "\n",
    "num=findDot(A,C)\n",
    "den=math.sqrt(findDot(A,A))* math.sqrt(findDot(C,C))\n",
    "print(\"The Cosine Distance between A and C is \"+str(num/den))\n",
    "\n"
   ]
  },
  {
   "cell_type": "markdown",
   "metadata": {},
   "source": [
    "1\n",
    "c) Same Procedure but the input changes due to 3,4,5 ratings getting values 1 and the rest 0"
   ]
  },
  {
   "cell_type": "code",
   "execution_count": 4,
   "metadata": {},
   "outputs": [
    {
     "name": "stdout",
     "output_type": "stream",
     "text": [
      "2\n",
      "5\n",
      "Jaccard Distance between A and B is 0.4\n",
      "1\n",
      "6\n",
      "Jaccard Distance between B and C is 0.16666666666666666\n",
      "2\n",
      "6\n",
      "Jaccard Distance between A and C is 0.3333333333333333\n"
     ]
    }
   ],
   "source": [
    "A=(1,1,0,1,0,0,1,0)\n",
    "B=(0,1,1,1,0,0,0,0)\n",
    "C=(0,0,0,1,0,1,1,1)\n",
    "\n",
    "in1=findInter(A,B)\n",
    "un=findUnion(A,B)\n",
    "print(in1)\n",
    "print(un)\n",
    "jacind=in1/un\n",
    "jacdist=1-jacind\n",
    "print(\"Jaccard Distance between A and B is \"+str(jacind))\n",
    "\n",
    "in1=findInter(B,C)\n",
    "un=findUnion(B,C)\n",
    "print(in1)\n",
    "print(un)\n",
    "jacind=in1/un\n",
    "jacdist=1-jacind\n",
    "print(\"Jaccard Distance between B and C is \"+str(jacind))\n",
    "\n",
    "in1=findInter(A,C)\n",
    "un=findUnion(A,C)\n",
    "print(in1)\n",
    "print(un)\n",
    "jacind=in1/un\n",
    "jacdist=1-jacind\n",
    "print(\"Jaccard Distance between A and C is \"+str(jacind))"
   ]
  },
  {
   "cell_type": "markdown",
   "metadata": {},
   "source": [
    "1\n",
    "d) The Cosine Distance procedure is the same but for the changed input."
   ]
  },
  {
   "cell_type": "code",
   "execution_count": 5,
   "metadata": {},
   "outputs": [
    {
     "name": "stdout",
     "output_type": "stream",
     "text": [
      "The Cosine Distance between A and B is 0.5773502691896258\n",
      "The Cosine Distance between B and C is 0.2886751345948129\n",
      "The Cosine Distance between A and C is 0.5\n"
     ]
    }
   ],
   "source": [
    "import math\n",
    "A=(1,1,0,1,0,0,1,0)\n",
    "B=(0,1,1,1,0,0,0,0)\n",
    "C=(0,0,0,1,0,1,1,1)\n",
    "\n",
    "num=findDot(A,B)\n",
    "den=math.sqrt(findDot(A,A))* math.sqrt(findDot(B,B))\n",
    "print(\"The Cosine Distance between A and B is \"+str(num/den))\n",
    "\n",
    "num=findDot(B,C)\n",
    "den=math.sqrt(findDot(C,C))* math.sqrt(findDot(B,B))\n",
    "print(\"The Cosine Distance between B and C is \"+str(num/den))\n",
    "\n",
    "num=findDot(A,C)\n",
    "den=math.sqrt(findDot(A,A))* math.sqrt(findDot(C,C))\n",
    "print(\"The Cosine Distance between A and C is \"+str(num/den))\n",
    "\n"
   ]
  },
  {
   "cell_type": "markdown",
   "metadata": {},
   "source": [
    "1\n",
    "e) Normalizing the matrix by finding the average of each user's ratings and then subtracting that from the non zero ratings."
   ]
  },
  {
   "cell_type": "code",
   "execution_count": 6,
   "metadata": {},
   "outputs": [
    {
     "name": "stdout",
     "output_type": "stream",
     "text": [
      "[1.5, 2.5, 0, 2.5, -1.5, 0, 0.5, -0.5]\n",
      "[0, 1.25, 2.25, 1.25, -0.75, 0.25, -0.75, 0]\n",
      "[-0.25, 0, -1.25, 0.75, 0, 1.75, 2.75, 0.75]\n"
     ]
    }
   ],
   "source": [
    "A=[4,5,0,5,1,0,3,2]\n",
    "B=[0,3,4,3,1,2,1,0]\n",
    "C=[2,0,1,3,0,4,5,3]\n",
    "\n",
    "def findAvg(s1):\n",
    "    avg=0;\n",
    "    for i in range(len(s1)):\n",
    "        avg+=s1[i]\n",
    "    avg=avg/len(s1)\n",
    "    return avg\n",
    "\n",
    "def repList(s1):\n",
    "    l=list()\n",
    "    for i in s1:\n",
    "        if(i is not 0):\n",
    "            l.append(i-findAvg(s1))\n",
    "        else:\n",
    "            l.append(0)\n",
    "    return l\n",
    "\n",
    "A=repList(A)\n",
    "B=repList(B)\n",
    "C=repList(C)\n",
    "print(A)\n",
    "print(B)\n",
    "print(C)"
   ]
  },
  {
   "cell_type": "markdown",
   "metadata": {},
   "source": [
    "1\n",
    "f) Computing the Cosine Distance between each set with the normalized sets from the previous step."
   ]
  },
  {
   "cell_type": "code",
   "execution_count": 7,
   "metadata": {},
   "outputs": [
    {
     "name": "stdout",
     "output_type": "stream",
     "text": [
      "The Cosine Distance between A and B is 0.5465040408511785\n",
      "The Cosine Distance between B and C is -0.31256152042413066\n",
      "The Cosine Distance between A and C is 0.16340829138365012\n"
     ]
    }
   ],
   "source": [
    "import math\n",
    "A=(1.5, 2.5, 0, 2.5, -1.5, 0, 0.5, -0.5)\n",
    "B=(0, 1.25, 2.25, 1.25, -0.75, 0.25, -0.75, 0)\n",
    "C=(-0.25, 0, -1.25, 0.75, 0, 1.75, 2.75, 0.75)\n",
    "num=findDot(A,B)\n",
    "den=math.sqrt(findDot(A,A))* math.sqrt(findDot(B,B))\n",
    "print(\"The Cosine Distance between A and B is \"+str(num/den))\n",
    "\n",
    "num=findDot(B,C)\n",
    "den=math.sqrt(findDot(C,C))* math.sqrt(findDot(B,B))\n",
    "print(\"The Cosine Distance between B and C is \"+str(num/den))\n",
    "\n",
    "num=findDot(A,C)\n",
    "den=math.sqrt(findDot(A,A))* math.sqrt(findDot(C,C))\n",
    "print(\"The Cosine Distance between A and C is \"+str(num/den))\n",
    "\n"
   ]
  },
  {
   "cell_type": "markdown",
   "metadata": {},
   "source": [
    "2)\n",
    "Based on the user profiles of Users 200 and 15, the recommender system is supposed to determine which of these users to suggest the movie with ID 95, \"The Aladdin (1992)\". The code mentioned below builds the profiles, calculates ratings, finds the user who is most likely to enjoy the movie. "
   ]
  },
  {
   "cell_type": "code",
   "execution_count": 8,
   "metadata": {},
   "outputs": [
    {
     "data": {
      "text/html": [
       "<div>\n",
       "<style scoped>\n",
       "    .dataframe tbody tr th:only-of-type {\n",
       "        vertical-align: middle;\n",
       "    }\n",
       "\n",
       "    .dataframe tbody tr th {\n",
       "        vertical-align: top;\n",
       "    }\n",
       "\n",
       "    .dataframe thead th {\n",
       "        text-align: right;\n",
       "    }\n",
       "</style>\n",
       "<table border=\"1\" class=\"dataframe\">\n",
       "  <thead>\n",
       "    <tr style=\"text-align: right;\">\n",
       "      <th></th>\n",
       "      <th>UserID</th>\n",
       "      <th>ItemID</th>\n",
       "      <th>Rating</th>\n",
       "      <th>Timestamp</th>\n",
       "    </tr>\n",
       "  </thead>\n",
       "  <tbody>\n",
       "    <tr>\n",
       "      <th>12</th>\n",
       "      <td>200</td>\n",
       "      <td>222</td>\n",
       "      <td>5</td>\n",
       "      <td>876042340</td>\n",
       "    </tr>\n",
       "    <tr>\n",
       "      <th>189</th>\n",
       "      <td>200</td>\n",
       "      <td>673</td>\n",
       "      <td>5</td>\n",
       "      <td>884128554</td>\n",
       "    </tr>\n",
       "    <tr>\n",
       "      <th>243</th>\n",
       "      <td>200</td>\n",
       "      <td>318</td>\n",
       "      <td>5</td>\n",
       "      <td>884128458</td>\n",
       "    </tr>\n",
       "    <tr>\n",
       "      <th>326</th>\n",
       "      <td>200</td>\n",
       "      <td>304</td>\n",
       "      <td>5</td>\n",
       "      <td>876041644</td>\n",
       "    </tr>\n",
       "    <tr>\n",
       "      <th>367</th>\n",
       "      <td>200</td>\n",
       "      <td>96</td>\n",
       "      <td>5</td>\n",
       "      <td>884129409</td>\n",
       "    </tr>\n",
       "    <tr>\n",
       "      <th>503</th>\n",
       "      <td>200</td>\n",
       "      <td>365</td>\n",
       "      <td>5</td>\n",
       "      <td>884129962</td>\n",
       "    </tr>\n",
       "    <tr>\n",
       "      <th>692</th>\n",
       "      <td>200</td>\n",
       "      <td>11</td>\n",
       "      <td>5</td>\n",
       "      <td>884129542</td>\n",
       "    </tr>\n",
       "    <tr>\n",
       "      <th>1129</th>\n",
       "      <td>200</td>\n",
       "      <td>892</td>\n",
       "      <td>4</td>\n",
       "      <td>884127082</td>\n",
       "    </tr>\n",
       "    <tr>\n",
       "      <th>1285</th>\n",
       "      <td>200</td>\n",
       "      <td>588</td>\n",
       "      <td>5</td>\n",
       "      <td>884128499</td>\n",
       "    </tr>\n",
       "    <tr>\n",
       "      <th>1490</th>\n",
       "      <td>200</td>\n",
       "      <td>478</td>\n",
       "      <td>5</td>\n",
       "      <td>884128788</td>\n",
       "    </tr>\n",
       "  </tbody>\n",
       "</table>\n",
       "</div>"
      ],
      "text/plain": [
       "      UserID  ItemID  Rating  Timestamp\n",
       "12       200     222       5  876042340\n",
       "189      200     673       5  884128554\n",
       "243      200     318       5  884128458\n",
       "326      200     304       5  876041644\n",
       "367      200      96       5  884129409\n",
       "503      200     365       5  884129962\n",
       "692      200      11       5  884129542\n",
       "1129     200     892       4  884127082\n",
       "1285     200     588       5  884128499\n",
       "1490     200     478       5  884128788"
      ]
     },
     "execution_count": 8,
     "metadata": {},
     "output_type": "execute_result"
    }
   ],
   "source": [
    "import pandas as pd\n",
    "dat=pd.read_csv('C:/Users/Titan/Documents/Pooja_programs/DA Project/assign.csv')\n",
    "df1=pd.read_csv('C:/Users/Titan/Documents/Pooja_programs/DA Project/assign1.csv')\n",
    "movie_choice=pd.DataFrame(df1.loc[94,::])\n",
    "movie_choice.head(n=10)\n",
    "df1.index+=1\n",
    "df1.head()\n",
    "movies_index=df1.MovieID\n",
    "genres=df1.columns\n",
    "genres=genres[5:]\n",
    "genre_values=df1.values\n",
    "dat200=pd.DataFrame(dat.loc[dat['UserID']==200])\n",
    "user200r=dat200.Rating\n",
    "user200i=dat200.ItemID\n",
    "dat200.head(n=10)\n"
   ]
  },
  {
   "cell_type": "code",
   "execution_count": 9,
   "metadata": {},
   "outputs": [
    {
     "data": {
      "text/html": [
       "<div>\n",
       "<style scoped>\n",
       "    .dataframe tbody tr th:only-of-type {\n",
       "        vertical-align: middle;\n",
       "    }\n",
       "\n",
       "    .dataframe tbody tr th {\n",
       "        vertical-align: top;\n",
       "    }\n",
       "\n",
       "    .dataframe thead th {\n",
       "        text-align: right;\n",
       "    }\n",
       "</style>\n",
       "<table border=\"1\" class=\"dataframe\">\n",
       "  <thead>\n",
       "    <tr style=\"text-align: right;\">\n",
       "      <th></th>\n",
       "      <th>UserID</th>\n",
       "      <th>ItemID</th>\n",
       "      <th>Rating</th>\n",
       "      <th>Timestamp</th>\n",
       "    </tr>\n",
       "  </thead>\n",
       "  <tbody>\n",
       "    <tr>\n",
       "      <th>206</th>\n",
       "      <td>15</td>\n",
       "      <td>405</td>\n",
       "      <td>2</td>\n",
       "      <td>879455957</td>\n",
       "    </tr>\n",
       "    <tr>\n",
       "      <th>642</th>\n",
       "      <td>15</td>\n",
       "      <td>749</td>\n",
       "      <td>1</td>\n",
       "      <td>879455311</td>\n",
       "    </tr>\n",
       "    <tr>\n",
       "      <th>708</th>\n",
       "      <td>15</td>\n",
       "      <td>25</td>\n",
       "      <td>3</td>\n",
       "      <td>879456204</td>\n",
       "    </tr>\n",
       "    <tr>\n",
       "      <th>1208</th>\n",
       "      <td>15</td>\n",
       "      <td>331</td>\n",
       "      <td>3</td>\n",
       "      <td>879455166</td>\n",
       "    </tr>\n",
       "    <tr>\n",
       "      <th>1365</th>\n",
       "      <td>15</td>\n",
       "      <td>222</td>\n",
       "      <td>3</td>\n",
       "      <td>879455730</td>\n",
       "    </tr>\n",
       "    <tr>\n",
       "      <th>2207</th>\n",
       "      <td>15</td>\n",
       "      <td>473</td>\n",
       "      <td>1</td>\n",
       "      <td>879456204</td>\n",
       "    </tr>\n",
       "    <tr>\n",
       "      <th>2241</th>\n",
       "      <td>15</td>\n",
       "      <td>678</td>\n",
       "      <td>1</td>\n",
       "      <td>879455311</td>\n",
       "    </tr>\n",
       "    <tr>\n",
       "      <th>2461</th>\n",
       "      <td>15</td>\n",
       "      <td>932</td>\n",
       "      <td>1</td>\n",
       "      <td>879456465</td>\n",
       "    </tr>\n",
       "    <tr>\n",
       "      <th>2464</th>\n",
       "      <td>15</td>\n",
       "      <td>127</td>\n",
       "      <td>2</td>\n",
       "      <td>879455505</td>\n",
       "    </tr>\n",
       "    <tr>\n",
       "      <th>2649</th>\n",
       "      <td>15</td>\n",
       "      <td>685</td>\n",
       "      <td>4</td>\n",
       "      <td>879456288</td>\n",
       "    </tr>\n",
       "  </tbody>\n",
       "</table>\n",
       "</div>"
      ],
      "text/plain": [
       "      UserID  ItemID  Rating  Timestamp\n",
       "206       15     405       2  879455957\n",
       "642       15     749       1  879455311\n",
       "708       15      25       3  879456204\n",
       "1208      15     331       3  879455166\n",
       "1365      15     222       3  879455730\n",
       "2207      15     473       1  879456204\n",
       "2241      15     678       1  879455311\n",
       "2461      15     932       1  879456465\n",
       "2464      15     127       2  879455505\n",
       "2649      15     685       4  879456288"
      ]
     },
     "execution_count": 9,
     "metadata": {},
     "output_type": "execute_result"
    }
   ],
   "source": [
    "dat15=pd.DataFrame(dat.loc[dat['UserID']==15])\n",
    "user15r=dat15.Rating\n",
    "user15i=dat15.ItemID\n",
    "dat15.head(n=10)"
   ]
  },
  {
   "cell_type": "code",
   "execution_count": 10,
   "metadata": {},
   "outputs": [],
   "source": [
    "def findAvg(s1):\n",
    "    avg=0;\n",
    "    for i in range(len(s1)):\n",
    "        avg+=s1[i]\n",
    "    avg=avg/len(s1)\n",
    "    return avg\n",
    "\n",
    "def findRatings(s1,s2):\n",
    "    l=[0]*18\n",
    "    m=list(s2)\n",
    "    rind=0\n",
    "    for i in s1:\n",
    "        pos=0\n",
    "        j=m[rind]*genre_values[i]\n",
    "        j=j[5:]\n",
    "        for ind in j:\n",
    "            l[pos]+=ind\n",
    "            pos+=1\n",
    "        rind+=1\n",
    "            \n",
    "            \n",
    "    \n",
    "    avg=findAvg(l)\n",
    "\n",
    "    for i in range(18):\n",
    "        l[i]/=avg\n",
    "        l[i]=round(l[i],2)\n",
    "    return l\n"
   ]
  },
  {
   "cell_type": "code",
   "execution_count": 24,
   "metadata": {},
   "outputs": [
    {
     "name": "stdout",
     "output_type": "stream",
     "text": [
      "User 200's Ratings : [2.12, 1.28, 0.37, 0.77, 3.09, 0.54, 0.11, 3.01, 0.2, 0.11, 0.6, 0.48, 0.3, 1.18, 1.01, 1.57, 0.84, 0.41]\n",
      "User 15's Ratings  : [1.4, 0.82, 0.09, 0.91, 2.19, 1.01, 0.15, 4.45, 0.3, 0.24, 0.37, 0.18, 0.4, 1.58, 0.91, 2.1, 0.61, 0.27]\n",
      "The Cosine Distance between User200 and Movie Number 95 : The Aladdin is 0.4146403090399625\n",
      "The Cosine Distance between User15 and Movie Number 95  : The Aladdin is 0.27418788454906295\n"
     ]
    }
   ],
   "source": [
    "user200r=dat200.Rating\n",
    "user200i=dat200.ItemID\n",
    "user15r=dat15.Rating\n",
    "user15i=dat15.ItemID\n",
    "\n",
    "user200sum=findRatings(user200i,user200r)\n",
    "user15sum=findRatings(user15i,user15r)\n",
    "\n",
    "print(\"User 200's Ratings : \"+str(user200sum))\n",
    "print(\"User 15's Ratings  : \"+str(user15sum))\n",
    "goal_movie=genre_values[94]\n",
    "goal_movie=goal_movie[5:]\n",
    "\n",
    "num=findDot(user200sum,goal_movie)\n",
    "den=math.sqrt(findDot(user200sum,user200sum))* math.sqrt(findDot(goal_movie,goal_movie))\n",
    "print(\"The Cosine Distance between User200 and Movie Number 95 : The Aladdin is \"+str(num/den))\n",
    "\n",
    "num=findDot(user15sum,goal_movie)\n",
    "den=math.sqrt(findDot(user15sum,user15sum))* math.sqrt(findDot(goal_movie,goal_movie))\n",
    "print(\"The Cosine Distance between User15 and Movie Number 95  : The Aladdin is \"+str(num/den))\n",
    "\n",
    "        "
   ]
  },
  {
   "cell_type": "markdown",
   "metadata": {},
   "source": [
    "Based on the Cosine Distance values, User 200 might enjoy \"The Aladdin\" more than User 15, so the Recommender would suggest this movie to User 200."
   ]
  },
  {
   "cell_type": "markdown",
   "metadata": {},
   "source": [
    "3)\n",
    "Perform Item Based Collaborative Filtering depending on the users' age distribution, with the age distribution recommend movies with high cosine similarity values.\n"
   ]
  },
  {
   "cell_type": "code",
   "execution_count": 31,
   "metadata": {},
   "outputs": [
    {
     "name": "stdout",
     "output_type": "stream",
     "text": [
      "568    568\n",
      "Name: MovieID, dtype: int64\n"
     ]
    }
   ],
   "source": [
    "speed=(df1.loc[df1['Movie Title']=='Speed (1994)'])\n",
    "print(speed.MovieID)"
   ]
  },
  {
   "cell_type": "markdown",
   "metadata": {},
   "source": [
    "To find the age group of users who enjoyed watching the movie \"Speed (1994)\", I decided to extract users who have rated the movie 3 and above, meaning they enjoyed it and then found their respective ages with the help of UserIDs. "
   ]
  },
  {
   "cell_type": "code",
   "execution_count": 62,
   "metadata": {},
   "outputs": [
    {
     "name": "stdout",
     "output_type": "stream",
     "text": [
      "Users younger than 20 : 21\n",
      "Users aged 20-30 : 88\n",
      "Users aged 30-40 : 55\n",
      "Users aged 40-50 : 26\n",
      "Users aged 50-60 : 9\n",
      "Users aged 60 and above : 2\n"
     ]
    }
   ],
   "source": [
    "users_speed=pd.DataFrame(dat.loc[dat['ItemID']==568])\n",
    "vals=users_speed.values\n",
    "valid=list()\n",
    "for i in vals:\n",
    "    if(i[2]>=3):\n",
    "        valid.append(i[0])\n",
    "\n",
    "users_age=pd.read_csv('C:/Users/Titan/Documents/Pooja_programs/DA Project/ass2.csv')\n",
    "users_age.index+=1\n",
    "all_ages=users_age.Age\n",
    "age=list()\n",
    "for i in valid:\n",
    "    age.append(all_ages[i])\n",
    "#print(age)\n",
    "age15=[]\n",
    "age20=[]\n",
    "age30=[]\n",
    "age40=[]\n",
    "age50=[]\n",
    "age60=[]\n",
    "\n",
    "for i in age:\n",
    "    if(i<20):\n",
    "        age15.append(i)\n",
    "    if(i>=20 and i<30):\n",
    "        age20.append(i)\n",
    "    if(i>=30 and i<40):\n",
    "        age30.append(i)\n",
    "    if(i>=40 and i<50):\n",
    "        age40.append(i)\n",
    "    if(i>=50 and i<60):\n",
    "        age50.append(i)\n",
    "    if(i>=60 and i<70):\n",
    "        age60.append(i)\n",
    "\n",
    "print(\"Users younger than 20 : \"+str(len(age15)))\n",
    "print(\"Users aged 20-30 : \"+str(len(age20)))\n",
    "print(\"Users aged 30-40 : \"+str(len(age30)))\n",
    "print(\"Users aged 40-50 : \"+str(len(age40)))\n",
    "print(\"Users aged 50-60 : \"+str(len(age50)))\n",
    "print(\"Users aged 60 and above : \"+str(len(age60)))\n",
    "\n"
   ]
  },
  {
   "cell_type": "markdown",
   "metadata": {},
   "source": [
    "It is clear that the target age demographic for \"Speed (1994)\" is 20-30.\n",
    "In order to find which movies to suggest, I decided to retrieve the movies that people in the age group have watched and those movies with the most reviews and ratings could be recommended to the user who liked Speed."
   ]
  },
  {
   "cell_type": "code",
   "execution_count": 119,
   "metadata": {},
   "outputs": [],
   "source": [
    "goal_id=[]\n",
    "j=0\n",
    "for i in all_ages:\n",
    "    j+=1\n",
    "    if(i>=20 and i<30):\n",
    "        goal_id.append(j)\n",
    "#print(goal_id)\n",
    "movie_id=[]\n",
    "items=dat.values\n",
    "for i in goal_id:\n",
    "    j=items[i]\n",
    "    movie_id.append(j[0])\n"
   ]
  },
  {
   "cell_type": "markdown",
   "metadata": {},
   "source": [
    "The MovieIDs of the movies that might appeal to the users are retrieved and the cosine distance of each of those movies with Speed in the age demographic is calculated and the ones with the highest similarity are stored in res and the corresponding Movie Titles are chosen to be recommended."
   ]
  },
  {
   "cell_type": "code",
   "execution_count": 157,
   "metadata": {},
   "outputs": [
    {
     "name": "stdout",
     "output_type": "stream",
     "text": [
      "[0.33, 0.58, 0.0, 0.0, 0.29, 0.0, 0.0, 0.82, 0.0, 0.29, 0.82, 0.41, 0.0, 0.0, 0.0, 0.0, 0.41, 0.33, 0.0, 0.0, 0.58, 0.33, 0.0, 0.0, 0.41, 0.41, 0.41, 0.0, 0.0, 0.0, 0.33, 0.0, 0.0, 0.0, 0.82, 0.41, 0.0, 0.0, 0.0, 0.0, 0.41, 0.0, 0.41, 0.0, 0.0, 0.41, 0.33, 0.0, 0.0, 0.58, 0.0, 0.0, 0.82, 0.33, 0.82, 0.82, 0.58, 0.0, 0.0, 0.52, 0.41, 0.41, 0.41, 0.41, 0.41, 0.0, 0.0, 0.0, 0.58, 0.29, 0.33, 0.58, 0.82, 0.0, 0.0, 0.0, 0.82, 0.0, 0.33, 0.41, 0.82, 0.33, 0.0, 0.0, 0.0, 0.0, 0.29, 0.0, 0.0, 0.41, 0.67, 0.0, 0.0, 0.0, 0.0, 0.29, 0.0, 0.41, 0.0, 0.0, 0.0, 0.0, 0.41, 0.41, 0.0, 0.41, 0.29, 0.41, 0.67, 0.33, 0.67, 0.0, 0.52, 0.29, 0.0, 0.0, 0.67, 0.58, 0.0, 0.0, 0.0, 0.0, 0.0, 0.41, 0.67, 0.82, 0.0, 0.0, 0.0, 0.0, 0.33, 0.0, 0.41, 0.0, 0.67, 0.58, 0.29, 0.0, 0.52, 0.29, 0.33, 0.33, 0.82, 0.41, 0.41, 0.29, 0.0, 0.67, 0.29, 0.0, 0.41, 0.0, 0.0, 0.41, 0.0, 0.0, 0.58, 0.0, 0.0, 0.41, 0.41, 0.0, 0.33, 0.0, 0.0, 0.0, 0.0, 0.0, 0.0, 0.67, 0.0, 0.0, 0.0, 0.0, 0.33, 0.0, 0.33, 0.33, 0.0, 0.0, 0.82, 0.82, 0.67, 0.0, 0.0, 0.33, 0.58, 0.41, 0.0, 0.29, 0.0, 0.58, 0.41, 0.0, 0.0, 0.0, 0.58, 0.29, 0.0, 0.58, 0.33, 0.33, 0.41, 0.0, 0.58, 0.33, 0.0, 0.33, 0.41, 0.29, 0.0, 0.0, 0.41, 0.82, 0.41, 0.0, 0.41, 0.41, 0.0, 0.58, 0.0, 0.82, 0.41, 0.41, 0.58, 0.0, 0.67, 0.82, 0.33, 0.41, 0.29, 0.0, 0.0, 0.0, 0.0, 0.0, 0.0, 0.41, 0.0, 0.0, 0.41, 0.29, 0.0, 0.41, 0.29, 0.41, 0.0, 0.41, 0.0, 0.52, 0.0, 0.0, 0.29, 0.0, 0.0, 0.0, 0.0, 0.41, 0.41, 0.0, 0.0, 0.41, 0.82, 0.33, 0.0, 0.41, 0.0, 0.58, 0.29, 0.0, 0.58, 0.0, 0.0, 0.0, 0.0, 0.0, 0.0, 0.0, 0.67, 0.0, 0.67, 0.0, 0.0, 0.58, 0.0, 0.0, 0.67, 0.82, 0.0, 0.41, 0.41, 0.0, 0.0, 0.0, 0.41, 0.0, 0.41, 0.0, 0.67, 0.0, 0.41, 0.0, 0.0, 0.41, 0.0, 0.67, 0.29, 0.41, 0.0, 0.41, 0.41, 0.33, 0.0, 0.52, 0.0, 0.0, 0.41, 0.41, 0.33, 0.82, 0.0, 0.0, 0.33, 0.58, 0.0, 0.0, 0.0, 0.67, 0.0, 0.0, 0.0, 0.0]\n"
     ]
    }
   ],
   "source": [
    "smovie=genre_values[567]\n",
    "smovie=smovie[5:]\n",
    "cos_vals=[]\n",
    "for i in movie_id:\n",
    "    j=genre_values[i]\n",
    "    j=j[5:]\n",
    "    num=findDot(smovie,j)\n",
    "    den=math.sqrt(findDot(j,j))* math.sqrt(findDot(smovie,smovie))\n",
    "    cos_vals.append(round((num/den),2))\n",
    "print(cos_vals)"
   ]
  },
  {
   "cell_type": "code",
   "execution_count": 154,
   "metadata": {},
   "outputs": [
    {
     "name": "stdout",
     "output_type": "stream",
     "text": [
      "Steel (1997)\n",
      "Scream (1996)\n",
      "Paradise Lost: The Child Murders at Robin Hood Hills (1996)\n"
     ]
    }
   ],
   "source": [
    "res = sorted(range(len(cos_vals)), key = lambda sub: cos_vals[sub])[-3:]\n",
    "moviet=df1.values\n",
    "for i in res:\n",
    "    j=moviet[i]\n",
    "    print(j[1])\n"
   ]
  },
  {
   "cell_type": "markdown",
   "metadata": {},
   "source": [
    "The Recommender would suggest the movies mentioned above."
   ]
  }
 ],
 "metadata": {
  "kernelspec": {
   "display_name": "Python 3",
   "language": "python",
   "name": "python3"
  },
  "language_info": {
   "codemirror_mode": {
    "name": "ipython",
    "version": 3
   },
   "file_extension": ".py",
   "mimetype": "text/x-python",
   "name": "python",
   "nbconvert_exporter": "python",
   "pygments_lexer": "ipython3",
   "version": "3.7.3"
  }
 },
 "nbformat": 4,
 "nbformat_minor": 2
}
